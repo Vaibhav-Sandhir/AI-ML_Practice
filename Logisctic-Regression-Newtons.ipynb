{
 "cells": [
  {
   "cell_type": "code",
   "execution_count": 1,
   "id": "b09a2ed7",
   "metadata": {},
   "outputs": [],
   "source": [
    "import pandas as pd\n",
    "import numpy as np\n",
    "import matplotlib.pyplot as plt"
   ]
  },
  {
   "cell_type": "code",
   "execution_count": 2,
   "id": "6cdcdc27",
   "metadata": {},
   "outputs": [
    {
     "name": "stdout",
     "output_type": "stream",
     "text": [
      "(1, 891)\n",
      "(7, 891)\n",
      "(7, 418)\n",
      "(1, 418)\n"
     ]
    }
   ],
   "source": [
    "X = pd.read_csv('C:/Users/eaa31/OneDrive/Desktop/ML-Practice/train_X.csv')\n",
    "Y = pd.read_csv('C:/Users/eaa31/OneDrive/Desktop/ML-Practice/train_Y.csv')\n",
    "X = X.drop('Id', axis = 1)\n",
    "Y = Y.drop('Id', axis = 1)\n",
    "\n",
    "X = X.values   # Conversion To Array\n",
    "Y = Y.values\n",
    "X = X.T\n",
    "Y = Y.T\n",
    "\n",
    "X_test = pd.read_csv('C:/Users/eaa31/OneDrive/Desktop/ML-Practice/test_X.csv')\n",
    "Y_test = pd.read_csv('C:/Users/eaa31/OneDrive/Desktop/ML-Practice/test_Y.csv')\n",
    "X_test = X_test.drop('Id', axis = 1)\n",
    "Y_test = Y_test.drop('Id', axis = 1)\n",
    "\n",
    "X_test = X_test.values   \n",
    "Y_test = Y_test.values\n",
    "X_test = X_test.T\n",
    "Y_test = Y_test.T\n",
    "\n",
    "print(np.shape(Y))\n",
    "print(np.shape(X))\n",
    "print(np.shape(X_test))\n",
    "print(np.shape(Y_test))"
   ]
  },
  {
   "cell_type": "code",
   "execution_count": 3,
   "id": "2a8d87b2",
   "metadata": {},
   "outputs": [],
   "source": [
    "def sigmoid(x):\n",
    "    return 1 / (1 + np.exp(-x))"
   ]
  },
  {
   "cell_type": "code",
   "execution_count": 34,
   "id": "05f254a6",
   "metadata": {},
   "outputs": [],
   "source": [
    "def newton_method(X, Y, learning_rate, epochs):\n",
    "    n,m = np.shape(X)\n",
    "    W = np.zeros((n, 1))\n",
    "    b = 0.0\n",
    "    \n",
    "    for i in range(epochs):\n",
    "        H = sigmoid(W.T @ X + b)\n",
    "        \n",
    "        cost = -(1 / m) * np.sum(Y * np.log(H) + (1 - Y) * np.log(1 - H))\n",
    "        \n",
    "        first_derivative_W = (1 / m) * np.dot(X, (H - Y).T)\n",
    "        first_derivative_b = (1 / m) * np.sum(H - Y)\n",
    "        \n",
    "        diagonal = np.diag(np.squeeze(H * (1 - H)))\n",
    "        hessian = (1 / m) * np.dot(X, np.dot(diagonal, X.T))\n",
    "        \n",
    "        W = W - np.linalg.inv(hessian).dot(first_derivative_W)\n",
    "        b = b - learning_rate * first_derivative_b\n",
    "        \n",
    "        if i % 2 == 0:\n",
    "            print(\"Cost after\", i, \"iterations:\", cost)\n",
    "\n",
    "    return W, b"
   ]
  },
  {
   "cell_type": "code",
   "execution_count": 35,
   "id": "6becbec8",
   "metadata": {},
   "outputs": [
    {
     "name": "stdout",
     "output_type": "stream",
     "text": [
      "Cost after 0 iterations: 0.6931471805599454\n",
      "Cost after 2 iterations: 0.4556838974881536\n",
      "Cost after 4 iterations: 0.4552470659718953\n",
      "Cost after 6 iterations: 0.4552450246670175\n",
      "Cost after 8 iterations: 0.4552429837964077\n"
     ]
    }
   ],
   "source": [
    "W,b = newton_method(X, Y, 0.01, 10)"
   ]
  },
  {
   "cell_type": "code",
   "execution_count": 27,
   "id": "ef70ef9f",
   "metadata": {},
   "outputs": [],
   "source": [
    "def accuracy(X, Y, W, b):\n",
    "    \n",
    "    H = sigmoid(np.dot(W.T, X) + b)\n",
    "    \n",
    "    H = H > 0.5\n",
    "    \n",
    "    H = np.array(H, dtype = 'int64')\n",
    "    \n",
    "    acc = (1 - np.sum(np.absolute(H - Y)) / Y.shape[1]) * 100\n",
    "    \n",
    "    print(\"Accuracy of the model is : \", round(acc, 2), \"%\")"
   ]
  },
  {
   "cell_type": "code",
   "execution_count": 28,
   "id": "ef4c6072",
   "metadata": {},
   "outputs": [
    {
     "name": "stdout",
     "output_type": "stream",
     "text": [
      "Accuracy of the model is :  91.87 %\n"
     ]
    }
   ],
   "source": [
    "accuracy(X_test, Y_test, W, b)"
   ]
  }
 ],
 "metadata": {
  "kernelspec": {
   "display_name": "Python 3 (ipykernel)",
   "language": "python",
   "name": "python3"
  },
  "language_info": {
   "codemirror_mode": {
    "name": "ipython",
    "version": 3
   },
   "file_extension": ".py",
   "mimetype": "text/x-python",
   "name": "python",
   "nbconvert_exporter": "python",
   "pygments_lexer": "ipython3",
   "version": "3.10.9"
  }
 },
 "nbformat": 4,
 "nbformat_minor": 5
}
