{
 "cells": [
  {
   "cell_type": "code",
   "execution_count": 117,
   "id": "ebac1680",
   "metadata": {},
   "outputs": [],
   "source": [
    "import numpy as np\n",
    "import pandas as pd\n",
    "import matplotlib.pyplot as plt"
   ]
  },
  {
   "cell_type": "markdown",
   "id": "9201d563",
   "metadata": {},
   "source": [
    "### Importing Data"
   ]
  },
  {
   "cell_type": "code",
   "execution_count": 129,
   "id": "a7c61b45",
   "metadata": {},
   "outputs": [
    {
     "name": "stdout",
     "output_type": "stream",
     "text": [
      "(1, 891)\n",
      "(7, 891)\n",
      "(7, 418)\n",
      "(1, 418)\n"
     ]
    }
   ],
   "source": [
    "X = pd.read_csv('C:/Users/eaa31/OneDrive/Desktop/ML-Practice/train_X.csv')\n",
    "Y = pd.read_csv('C:/Users/eaa31/OneDrive/Desktop/ML-Practice/train_Y.csv')\n",
    "X = X.drop('Id', axis = 1)\n",
    "Y = Y.drop('Id', axis = 1)\n",
    "\n",
    "X = X.values   # Conversion To Array\n",
    "Y = Y.values\n",
    "X = X.T\n",
    "Y = Y.T\n",
    "\n",
    "X_test = pd.read_csv('C:/Users/eaa31/OneDrive/Desktop/ML-Practice/test_X.csv')\n",
    "Y_test = pd.read_csv('C:/Users/eaa31/OneDrive/Desktop/ML-Practice/test_Y.csv')\n",
    "X_test = X_test.drop('Id', axis = 1)\n",
    "Y_test = Y_test.drop('Id', axis = 1)\n",
    "\n",
    "X_test = X_test.values   \n",
    "Y_test = Y_test.values\n",
    "X_test = X_test.T\n",
    "Y_test = Y_test.T\n",
    "\n",
    "print(np.shape(Y))\n",
    "print(np.shape(X))\n",
    "print(np.shape(X_test))\n",
    "print(np.shape(Y_test))"
   ]
  },
  {
   "cell_type": "markdown",
   "id": "72c0d6f3",
   "metadata": {},
   "source": [
    "### Logistic Regression"
   ]
  },
  {
   "cell_type": "code",
   "execution_count": 119,
   "id": "f18f6649",
   "metadata": {},
   "outputs": [],
   "source": [
    "def sigmoid(x):\n",
    "    return 1 / (1 + np.exp(-x))"
   ]
  },
  {
   "cell_type": "code",
   "execution_count": 145,
   "id": "b61560f6",
   "metadata": {},
   "outputs": [],
   "source": [
    "def model(X, Y, learning_rate, epochs):\n",
    "    n, m = np.shape(X)\n",
    "    \n",
    "    W = np.zeros((n,1))\n",
    "    b = 0.0\n",
    "    \n",
    "    for i in range(epochs):\n",
    "        \n",
    "        H = sigmoid(W.T @ X + b)\n",
    "        \n",
    "        epsilon = 1e-8\n",
    "        \n",
    "        cost = -(1 / m) * np.sum(Y * np.log(H + epsilon) + (1 - Y) * np.log(1 - H + epsilon))\n",
    "        \n",
    "        dW = (1 / m) * ((H - Y) @ X.T)\n",
    "        dB = (1 / m) * np.sum(H - Y)   # np.sum is necessary to make sure b remains a scalar value\n",
    "        \n",
    "        W = W - learning_rate * dW.T\n",
    "        b = b - learning_rate * dB\n",
    "         \n",
    "        if(i % 50000 == 0):\n",
    "            print(\"cost after \", i, \"iteration is : \", cost)\n",
    "        \n",
    "    return W, b"
   ]
  },
  {
   "cell_type": "code",
   "execution_count": 146,
   "id": "af123660",
   "metadata": {},
   "outputs": [
    {
     "name": "stdout",
     "output_type": "stream",
     "text": [
      "cost after  0 iteration is :  0.6931471605599455\n",
      "cost after  50000 iteration is :  0.4551776187920141\n",
      "cost after  100000 iteration is :  0.4492070871342399\n",
      "cost after  150000 iteration is :  0.4473981140843937\n",
      "cost after  200000 iteration is :  0.4463404310629427\n",
      "cost after  250000 iteration is :  0.44567607454204533\n",
      "cost after  300000 iteration is :  0.44525645525396895\n",
      "cost after  350000 iteration is :  0.4449912505566149\n",
      "cost after  400000 iteration is :  0.44482354253647355\n",
      "cost after  450000 iteration is :  0.4447174152002857\n",
      "cost after  500000 iteration is :  0.4446502088110265\n",
      "cost after  550000 iteration is :  0.4446076210864119\n",
      "cost after  600000 iteration is :  0.4445806177762443\n",
      "cost after  650000 iteration is :  0.4445634871713535\n",
      "cost after  700000 iteration is :  0.4445526149854398\n",
      "cost after  750000 iteration is :  0.44454571230171364\n",
      "cost after  800000 iteration is :  0.444541328525181\n",
      "cost after  850000 iteration is :  0.4445385437854045\n",
      "cost after  900000 iteration is :  0.44453677446346196\n",
      "cost after  950000 iteration is :  0.44453565012053137\n"
     ]
    }
   ],
   "source": [
    "W, b = model(X, Y, 0.001, 1000000)"
   ]
  },
  {
   "cell_type": "markdown",
   "id": "95b88a33",
   "metadata": {},
   "source": [
    "### Testing"
   ]
  },
  {
   "cell_type": "code",
   "execution_count": 148,
   "id": "57dc3896",
   "metadata": {},
   "outputs": [
    {
     "name": "stdout",
     "output_type": "stream",
     "text": [
      "(7, 1)\n",
      "2.081607509709897\n"
     ]
    }
   ],
   "source": [
    "print(np.shape(W))\n",
    "print(b)\n",
    "n,m = np.shape(X)"
   ]
  },
  {
   "cell_type": "code",
   "execution_count": 149,
   "id": "b8cd717e",
   "metadata": {},
   "outputs": [],
   "source": [
    "def accuracy(X, Y, W, b):\n",
    "    \n",
    "    H = sigmoid(np.dot(W.T, X) + b)\n",
    "    \n",
    "    H = H > 0.5\n",
    "    \n",
    "    H = np.array(H, dtype = 'int64')\n",
    "    \n",
    "    acc = (1 - np.sum(np.absolute(H - Y)) / Y.shape[1]) * 100\n",
    "    \n",
    "    print(\"Accuracy of the model is : \", round(acc, 2), \"%\")"
   ]
  },
  {
   "cell_type": "code",
   "execution_count": 151,
   "id": "0008b545",
   "metadata": {},
   "outputs": [
    {
     "name": "stdout",
     "output_type": "stream",
     "text": [
      "Accuracy of the model is :  90.43 %\n"
     ]
    }
   ],
   "source": [
    "accuracy(X_test, Y_test, W, b)"
   ]
  }
 ],
 "metadata": {
  "kernelspec": {
   "display_name": "Python 3 (ipykernel)",
   "language": "python",
   "name": "python3"
  },
  "language_info": {
   "codemirror_mode": {
    "name": "ipython",
    "version": 3
   },
   "file_extension": ".py",
   "mimetype": "text/x-python",
   "name": "python",
   "nbconvert_exporter": "python",
   "pygments_lexer": "ipython3",
   "version": "3.10.9"
  }
 },
 "nbformat": 4,
 "nbformat_minor": 5
}
